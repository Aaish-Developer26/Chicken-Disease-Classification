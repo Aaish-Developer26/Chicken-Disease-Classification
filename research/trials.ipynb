{
 "cells": [
  {
   "cell_type": "markdown",
   "id": "62809b32",
   "metadata": {},
   "source": [
    "Chicken Disease Classification Project Research Based Work"
   ]
  },
  {
   "cell_type": "code",
   "execution_count": null,
   "id": "a82f1fbb",
   "metadata": {},
   "outputs": [],
   "source": []
  }
 ],
 "metadata": {
  "kernelspec": {
   "display_name": "chicken",
   "language": "python",
   "name": "python3"
  },
  "language_info": {
   "name": "python",
   "version": "3.9.0"
  }
 },
 "nbformat": 4,
 "nbformat_minor": 5
}
