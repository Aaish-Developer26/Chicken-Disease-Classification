{
 "cells": [
  {
   "cell_type": "markdown",
   "id": "5c24f198",
   "metadata": {},
   "source": [
    "Data Ingestion"
   ]
  },
  {
   "cell_type": "code",
   "execution_count": 1,
   "id": "8c5c8899",
   "metadata": {},
   "outputs": [],
   "source": [
    "import os"
   ]
  },
  {
   "cell_type": "code",
   "execution_count": 2,
   "id": "ee730afe",
   "metadata": {},
   "outputs": [
    {
     "data": {
      "text/plain": [
       "'c:\\\\Users\\\\EliteBook\\\\OneDrive\\\\Documents\\\\Chicken Disease Classification\\\\research'"
      ]
     },
     "execution_count": 2,
     "metadata": {},
     "output_type": "execute_result"
    }
   ],
   "source": [
    "%pwd"
   ]
  },
  {
   "cell_type": "code",
   "execution_count": 3,
   "id": "461a64ad",
   "metadata": {},
   "outputs": [],
   "source": [
    "os.chdir(\"../\")"
   ]
  },
  {
   "cell_type": "code",
   "execution_count": 4,
   "id": "38fdd56d",
   "metadata": {},
   "outputs": [
    {
     "data": {
      "text/plain": [
       "'c:\\\\Users\\\\EliteBook\\\\OneDrive\\\\Documents\\\\Chicken Disease Classification'"
      ]
     },
     "execution_count": 4,
     "metadata": {},
     "output_type": "execute_result"
    }
   ],
   "source": [
    "%pwd"
   ]
  },
  {
   "cell_type": "code",
   "execution_count": 5,
   "id": "251b1e02",
   "metadata": {},
   "outputs": [],
   "source": [
    "from dataclasses import dataclass\n",
    "from pathlib import Path\n",
    "\n",
    "# THis is not the original data class, this decorator is being created for bulding my own custom return types.\n",
    "@dataclass(frozen=True)\n",
    "class DataIngestionConfig:\n",
    "    root_dir: Path\n",
    "    source_URL: str\n",
    "    local_data_file: Path\n",
    "    unzip_dir: Path\n"
   ]
  },
  {
   "cell_type": "code",
   "execution_count": 6,
   "id": "aaba3301",
   "metadata": {},
   "outputs": [],
   "source": [
    "from CnnClassifier.constants import *\n",
    "from CnnClassifier.utils.mutuals import read_yaml, create_directories\n"
   ]
  },
  {
   "cell_type": "code",
   "execution_count": 7,
   "id": "b194735c",
   "metadata": {},
   "outputs": [],
   "source": [
    "class ConfigurationManager:\n",
    "    def __init__(\n",
    "            self,\n",
    "            config_filepath = CONFIG_FILE_PATH,\n",
    "            params_filepath = PARAMS_FILE_PATH):\n",
    "\n",
    "            self.config = read_yaml(config_filepath)\n",
    "            self.params = read_yaml(params_filepath)\n",
    "\n",
    "            create_directories([self.config.artifacts_root])\n",
    "    \n",
    "    def get_data_ingestion_config(self) -> DataIngestionConfig:\n",
    "          config = self.config.data_ingestion\n",
    "          create_directories([config.root_dir])\n",
    "          data_ingestion_config = DataIngestionConfig(\n",
    "                root_dir=config.root_dir,\n",
    "                source_URL=config.source_URL,\n",
    "                local_data_file=config.local_data_file,\n",
    "                unzip_dir=config.unzip_dir\n",
    "          )\n",
    "\n",
    "          return data_ingestion_config"
   ]
  },
  {
   "cell_type": "code",
   "execution_count": 8,
   "id": "31de0337",
   "metadata": {},
   "outputs": [],
   "source": [
    "import os\n",
    "import boto3\n",
    "# import urllib.request as request\n",
    "import zipfile\n",
    "from dotenv import load_dotenv\n",
    "from CnnClassifier import logger\n",
    "from CnnClassifier.utils.mutuals import get_size"
   ]
  },
  {
   "cell_type": "code",
   "execution_count": 9,
   "id": "4bc125d3",
   "metadata": {},
   "outputs": [],
   "source": [
    "class DataIngestion:\n",
    "    def __init__(self, config: DataIngestionConfig):\n",
    "        self.config = config\n",
    "        load_dotenv()\n",
    "\n",
    "        self.s3_client = boto3.client(\n",
    "            \"s3\",\n",
    "            aws_access_key_id=os.getenv(\"AWS_ACCESS_KEY\"),\n",
    "            aws_secret_access_key=os.getenv(\"AWS_SECRET_KEY\"),\n",
    "            region_name=os.getenv(\"REGION_NAME\")\n",
    "        )\n",
    "\n",
    "    \n",
    "    def download_file(self):\n",
    "        if not os.path.exists(self.config.local_data_file):\n",
    "            # Parse S3 URI\n",
    "            s3_uri = self.config.source_URL  \n",
    "            assert s3_uri.startswith(\"s3://\"), \"Invalid S3 URI\"\n",
    "            s3_uri_parts = s3_uri.replace(\"s3://\", \"\").split(\"/\", 1)\n",
    "            bucket_name = s3_uri_parts[0]\n",
    "            object_key = s3_uri_parts[1]\n",
    "\n",
    "            self.s3_client.download_file(\n",
    "                Bucket=bucket_name,\n",
    "                Key=object_key,\n",
    "                Filename=self.config.local_data_file\n",
    "            )\n",
    "            logger.info(f\"{self.config.local_data_file} downloaded from S3!\")\n",
    "        else:\n",
    "            logger.info(f\"File already exists of size: {get_size(Path(self.config.local_data_file))}\")\n",
    "\n",
    "\n",
    "    \n",
    "    def extract_zip_file(self):\n",
    "        \"\"\"\n",
    "        zip_file_path: str\n",
    "        Extracts the zip file into the data directory\n",
    "        Function returns None\n",
    "        \"\"\"\n",
    "        unzip_path = self.config.unzip_dir\n",
    "        os.makedirs(unzip_path, exist_ok=True)\n",
    "        with zipfile.ZipFile(self.config.local_data_file, 'r') as zip_ref:\n",
    "            zip_ref.extractall(unzip_path)"
   ]
  },
  {
   "cell_type": "markdown",
   "id": "00701c8a",
   "metadata": {},
   "source": [
    "Executing through Pipeline"
   ]
  },
  {
   "cell_type": "code",
   "execution_count": 10,
   "id": "8e25e74b",
   "metadata": {},
   "outputs": [
    {
     "name": "stdout",
     "output_type": "stream",
     "text": [
      "{2025-05-22 22:05:47,138}: INFO: mutuals: yaml file: config\\config.yaml loaded successfully}\n",
      "{2025-05-22 22:05:47,138}: INFO: mutuals: yaml file: params.yaml loaded successfully}\n",
      "{2025-05-22 22:05:47,145}: INFO: mutuals: created directory at: artifacts}\n",
      "{2025-05-22 22:05:47,146}: INFO: mutuals: created directory at: artifacts/data_ingestion}\n",
      "{2025-05-22 22:06:51,465}: INFO: 240432036: artifacts/data_ingestion/data.zip downloaded from S3!}\n"
     ]
    }
   ],
   "source": [
    "try:\n",
    "    config = ConfigurationManager()\n",
    "    data_ingestion_config = config.get_data_ingestion_config()\n",
    "    data_ingestion = DataIngestion(config=data_ingestion_config)\n",
    "    data_ingestion.download_file()\n",
    "    data_ingestion.extract_zip_file()\n",
    "except Exception as e:\n",
    "    raise e"
   ]
  },
  {
   "cell_type": "code",
   "execution_count": null,
   "id": "743309dd",
   "metadata": {},
   "outputs": [],
   "source": []
  }
 ],
 "metadata": {
  "kernelspec": {
   "display_name": "chicken",
   "language": "python",
   "name": "python3"
  },
  "language_info": {
   "codemirror_mode": {
    "name": "ipython",
    "version": 3
   },
   "file_extension": ".py",
   "mimetype": "text/x-python",
   "name": "python",
   "nbconvert_exporter": "python",
   "pygments_lexer": "ipython3",
   "version": "3.9.0"
  }
 },
 "nbformat": 4,
 "nbformat_minor": 5
}
